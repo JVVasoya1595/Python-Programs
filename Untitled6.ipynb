{
 "cells": [
  {
   "cell_type": "code",
   "execution_count": 15,
   "metadata": {},
   "outputs": [],
   "source": [
    "#WAP to read line by line from given files file1 and file2 and write into file3.\n",
    "f1=open(\"data.txt\",\"r\")\n",
    "f2=open(\"demo.txt\",\"r\")\n",
    "f3=open(\"task.txt\",\"w\")\n",
    "a=f1.readlines()\n",
    "b=f2.readlines()\n",
    "if len(a)>len(b):\n",
    "    c=0\n",
    "    for i in range(len(a)):\n",
    "        f3.write(a[i])\n",
    "        if c!=len(b)-1:\n",
    "            f3.write(b[i])\n",
    "            c+=1\n",
    "elif len(a)==len(b):\n",
    "    for i in range(len(a)):\n",
    "        f3.write(a[i])\n",
    "        f3.write(b[i])\n",
    "else:\n",
    "    c=0\n",
    "    for i in range(len(b)):\n",
    "        if c!=len(a)-1:\n",
    "            f3.write(a[i])\n",
    "            c+=1\n",
    "        f3.write(b[i])\n",
    "f1.close()\n",
    "f3.close()\n",
    "f2.close()"
   ]
  },
  {
   "cell_type": "code",
   "execution_count": 20,
   "metadata": {},
   "outputs": [
    {
     "name": "stdout",
     "output_type": "stream",
     "text": [
      "kfgjvbfkgjvbrfvgkjdfjkvbetkjbjkgbkjvjkbgjkfbvj\n"
     ]
    }
   ],
   "source": [
    "#WAP to find the longest word in text file\n",
    "f1=open(\"data.txt\",\"r\")\n",
    "a=f1.readlines()\n",
    "max=0\n",
    "maxword=\"\"\n",
    "for i in range(len(a)):\n",
    "    b=a[i].split()\n",
    "    c=0\n",
    "    for j in range(len(b)):\n",
    "        if len(b[c])>max:\n",
    "            maxword=b[c]\n",
    "            max=c\n",
    "            c+=1\n",
    "        else:\n",
    "            continue\n",
    "print(maxword)"
   ]
  },
  {
   "cell_type": "code",
   "execution_count": null,
   "metadata": {},
   "outputs": [],
   "source": []
  }
 ],
 "metadata": {
  "kernelspec": {
   "display_name": "Python 3",
   "language": "python",
   "name": "python3"
  },
  "language_info": {
   "codemirror_mode": {
    "name": "ipython",
    "version": 3
   },
   "file_extension": ".py",
   "mimetype": "text/x-python",
   "name": "python",
   "nbconvert_exporter": "python",
   "pygments_lexer": "ipython3",
   "version": "3.8.5"
  }
 },
 "nbformat": 4,
 "nbformat_minor": 4
}
