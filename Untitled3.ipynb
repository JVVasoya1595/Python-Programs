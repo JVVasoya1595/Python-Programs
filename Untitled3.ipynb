{
 "cells": [
  {
   "cell_type": "code",
   "execution_count": 4,
   "metadata": {},
   "outputs": [
    {
     "name": "stdout",
     "output_type": "stream",
     "text": [
      "False\n",
      "demo.txt\n",
      "a+\n",
      "True\n",
      "True\n"
     ]
    }
   ],
   "source": [
    "f=open(\"demo.txt\",\"a+\")\n",
    "print(f.closed)\n",
    "print(f.name)\n",
    "print(f.mode)\n",
    "print(f.readable())\n",
    "print(f.writable())"
   ]
  },
  {
   "cell_type": "code",
   "execution_count": 12,
   "metadata": {},
   "outputs": [],
   "source": [
    "#WAP to coy the content of one file to another file.\n",
    "f1=open(\"demo.txt\",\"r\") \n",
    "f2=open(\"task.txt\",\"w\")\n",
    "a=f1.read()\n",
    "f2.write(a)\n",
    "f2.close()"
   ]
  },
  {
   "cell_type": "code",
   "execution_count": 19,
   "metadata": {},
   "outputs": [
    {
     "name": "stdout",
     "output_type": "stream",
     "text": [
      "13\n",
      "\n",
      "9\n",
      "\n",
      "13\n",
      "\n",
      "20\n",
      "\n"
     ]
    }
   ],
   "source": [
    "#write a dictionary to the file.\n",
    "details={\"Name\":\"Alice\",\"Age\":21,\"Degree\":\"CSE\",\"University\":\"Oxford\"}\n",
    "with open(\"data.txt\",\"w\") as f1:\n",
    "    for i,j in details.items():\n",
    "        a=str(i)+\" : \"+str(j)+\"\\n\"\n",
    "        print(f1.write(a))\n",
    "        print()"
   ]
  },
  {
   "cell_type": "code",
   "execution_count": 27,
   "metadata": {},
   "outputs": [],
   "source": [
    "#WAP to copy  the content of one file to another file in upper case and in reverse order.\n",
    "f1=open(\"demo.txt\",\"r\")\n",
    "a=f1.readlines()\n",
    "f2=open(\"task.txt\",\"w\")\n",
    "f2.writelines(a[::-1])\n",
    "f2.close()"
   ]
  },
  {
   "cell_type": "code",
   "execution_count": 31,
   "metadata": {},
   "outputs": [
    {
     "name": "stdout",
     "output_type": "stream",
     "text": [
      "Enter line. 1\n",
      "['Jenil Vasoya 1\\n']\n"
     ]
    }
   ],
   "source": [
    "#WAP to read secific line  from a file.\n",
    "a1=int(input(\"Enter line. \"))\n",
    "f1=open(\"demo.txt\",\"r\")\n",
    "a=f1.readlines()\n",
    "print(a[a1-1:a1])"
   ]
  },
  {
   "cell_type": "code",
   "execution_count": 33,
   "metadata": {},
   "outputs": [],
   "source": [
    "#WAP to copy the odd line from onre file to another files.\n",
    "f1=open(\"demo.txt\",\"r\")\n",
    "a=f1.readlines()\n",
    "f2=open(\"task.txt\",\"w\")\n",
    "f2.writelines(a[::2])\n",
    "f2.close()"
   ]
  },
  {
   "cell_type": "code",
   "execution_count": null,
   "metadata": {},
   "outputs": [],
   "source": [
    "a1=int(input(\"Enter line. \"))\n",
    "f1=open(\"demo.txt\",\"r\")\n",
    "a=f1.readlines()\n",
    "while True:\n",
    "    for i in range(a1):\n",
    "        print(a[a1-1:a1])"
   ]
  },
  {
   "cell_type": "code",
   "execution_count": 4,
   "metadata": {},
   "outputs": [
    {
     "name": "stdout",
     "output_type": "stream",
     "text": [
      "Enter File Name. demo.txt\n",
      "THIS IS PYTHON 01\n",
      "\n",
      "THIS IS PYTHON 02 \n",
      "\n",
      "THIS IS PYTHON 03\n",
      "\n",
      "THIS IS PYTHON 04 \n",
      "\n",
      "THIS IS PYTHON 05\n",
      "\n",
      "Enter any key to continue.(Press 'q' to quit.) :\n",
      "THIS IS PYTHON 06\n",
      "\n",
      "THIS IS PYTHON 07\n",
      "\n",
      "THIS IS PYTHON 08\n",
      "\n",
      "THIS IS PYTHON 09\n",
      "\n",
      "THIS IS PYTHON 10\n",
      "\n",
      "Enter any key to continue.(Press 'q' to quit.) :q\n",
      "Extiting Program...\n"
     ]
    }
   ],
   "source": [
    "text=open(input(\"Enter File Name. \"))\n",
    "num=5\n",
    "for index,line in enumerate(text,1):\n",
    "    print(line)\n",
    "    if index%num==0:\n",
    "        x=input(\"Enter any key to continue.(Press 'q' to quit.) :\")\n",
    "        if x.lower()=='q':\n",
    "            print(\"Extiting Program...\")\n",
    "            break\n",
    "        else:\n",
    "            continue"
   ]
  },
  {
   "cell_type": "code",
   "execution_count": 9,
   "metadata": {},
   "outputs": [],
   "source": [
    "#WAP to copy the content of teo files into a single file\n",
    "f1=open(\"demo.txt\",\"r\")\n",
    "a=f1.readlines()\n",
    "f2=open(\"task.txt\",\"a+\")\n",
    "f2.writelines(a)\n",
    "f3=open(\"data.txt\",\"r\")\n",
    "a2=f1.readlines()\n",
    "f5=open(\"task.txt\",\"a+\")\n",
    "f5.writelines(a2)\n",
    "f2.close()\n",
    "f5.close()"
   ]
  },
  {
   "cell_type": "code",
   "execution_count": null,
   "metadata": {},
   "outputs": [],
   "source": []
  }
 ],
 "metadata": {
  "kernelspec": {
   "display_name": "Python 3",
   "language": "python",
   "name": "python3"
  },
  "language_info": {
   "codemirror_mode": {
    "name": "ipython",
    "version": 3
   },
   "file_extension": ".py",
   "mimetype": "text/x-python",
   "name": "python",
   "nbconvert_exporter": "python",
   "pygments_lexer": "ipython3",
   "version": "3.8.5"
  }
 },
 "nbformat": 4,
 "nbformat_minor": 4
}
