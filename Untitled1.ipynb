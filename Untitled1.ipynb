{
 "cells": [
  {
   "cell_type": "markdown",
   "metadata": {},
   "source": [
    "## CH.6 Working with Files.\n",
    "\n",
    "1. Inbuilt Functions.\n",
    "  1. create\n",
    "  2. write\n",
    "  3. reading\n",
    "\n",
    "2. Types of File.\n",
    "  1. text\n",
    "  2. binary ---> Machine understandable lannguage.\n",
    " \n",
    "3. Modes.\n",
    " 1. r,r+,w,w+,a,a+."
   ]
  },
  {
   "cell_type": "markdown",
   "metadata": {},
   "source": [
    "### 6.1 Read only('r')\n",
    "\n",
    "1. Handle position at the begining of the file.\n",
    "2. If file does not exists, raises the I/O error.\n",
    "3. Defalult mode."
   ]
  },
  {
   "cell_type": "code",
   "execution_count": 1,
   "metadata": {},
   "outputs": [],
   "source": [
    "f=open(\"demo.txt\",\"r\")"
   ]
  },
  {
   "cell_type": "code",
   "execution_count": null,
   "metadata": {},
   "outputs": [],
   "source": []
  }
 ],
 "metadata": {
  "kernelspec": {
   "display_name": "Python 3",
   "language": "python",
   "name": "python3"
  },
  "language_info": {
   "codemirror_mode": {
    "name": "ipython",
    "version": 3
   },
   "file_extension": ".py",
   "mimetype": "text/x-python",
   "name": "python",
   "nbconvert_exporter": "python",
   "pygments_lexer": "ipython3",
   "version": "3.8.5"
  }
 },
 "nbformat": 4,
 "nbformat_minor": 4
}
